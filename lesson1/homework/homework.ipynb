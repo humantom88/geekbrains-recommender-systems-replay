{
 "cells": [
  {
   "cell_type": "markdown",
   "metadata": {},
   "source": [
    "# Практическое задание к уроку 1   \n",
    "## \"Введение, примеры задач, бизнес- и ML-метрики\""
   ]
  },
  {
   "cell_type": "markdown",
   "metadata": {},
   "source": [
    "### Импорт библиотек"
   ]
  },
  {
   "cell_type": "code",
   "execution_count": 9,
   "metadata": {},
   "outputs": [],
   "source": [
    "import pandas as pd\n",
    "import numpy as np\n",
    "import math\n",
    "\n",
    "# ID товаров\n",
    "\n",
    "recommended_good_ids = [11, 27, 43, 143, 156, 1134, 991, 1543, 3345, 533] \n",
    "bought_good_ids = [32, 143, 521, 991]\n",
    "grades_good_ids = [1, 2, 3, 1, 1, 2, 3, 1, 2, 1]\n",
    "prices_recommended_good_ids = [400, 60, 40, 40, 90]\n",
    "prices_bought_good_ids = [60, 40, 40, 90]"
   ]
  },
  {
   "cell_type": "markdown",
   "metadata": {},
   "source": [
    "## Расчёт метрик"
   ]
  },
  {
   "cell_type": "markdown",
   "metadata": {},
   "source": [
    "### Hit Rate"
   ]
  },
  {
   "cell_type": "code",
   "execution_count": 10,
   "metadata": {},
   "outputs": [],
   "source": [
    "def hit_rate(recommended=[], bought=[]):\n",
    "    bought = np.array(bought)\n",
    "    recommended = np.array(recommended)\n",
    "\n",
    "    intersection = np.isin(bought, recommended)\n",
    "    hit_rate = (intersection.sum() > 0) * 1\n",
    "\n",
    "    return hit_rate\n",
    "\n",
    "def hit_rate_at_k(recommended=[], bought=[], k=5):\n",
    "    bought = np.array(bought)\n",
    "    recommended = np.array(recommended[:k])\n",
    "\n",
    "    intersection = np.isin(bought, recommended)\n",
    "    hit_rate = (intersection.sum() > 0) * 1\n",
    "\n",
    "    return hit_rate"
   ]
  },
  {
   "cell_type": "code",
   "execution_count": 11,
   "metadata": {},
   "outputs": [
    {
     "data": {
      "text/plain": [
       "1"
      ]
     },
     "execution_count": 11,
     "metadata": {},
     "output_type": "execute_result"
    }
   ],
   "source": [
    "hit_rate_at_k(recommended_good_ids, bought_good_ids, k=5)"
   ]
  },
  {
   "cell_type": "markdown",
   "metadata": {},
   "source": [
    "## Precision & Money Precision"
   ]
  },
  {
   "cell_type": "code",
   "execution_count": 12,
   "metadata": {},
   "outputs": [],
   "source": [
    "def precision(recommended, bought):\n",
    "    bought = np.array(bought)\n",
    "    recommended = np.array(recommended)\n",
    "\n",
    "    intersection = np.isin(bought, recommended)\n",
    "    precision = intersection.sum() / len(recommended)\n",
    "\n",
    "    return precision\n",
    "\n",
    "\n",
    "def precision_at_k(recommended, bought, k=5):\n",
    "    bought = np.array(bought)\n",
    "    recommended = np.array(recommended)\n",
    "    recommended = recommended[:k]\n",
    "\n",
    "    intersection = np.isin(bought, recommended)\n",
    "    precision = intersection.sum() / len(recommended)\n",
    "\n",
    "\n",
    "    return precision\n",
    "\n",
    "\n",
    "def money_precision_at_k(recommended, bought, prices_recommended, k=5):\n",
    "    recommend = np.array(recommended)[:k]\n",
    "    prices_recommended = np.array(prices_recommended)[:k]\n",
    "\n",
    "    intersection = np.isin(recommend, bought)\n",
    "    precision = np.dot(intersection, prices_recommended) / prices_recommended.sum()\n",
    "\n",
    "    return precision"
   ]
  },
  {
   "cell_type": "code",
   "execution_count": 13,
   "metadata": {},
   "outputs": [
    {
     "data": {
      "text/plain": [
       "0.06349206349206349"
      ]
     },
     "execution_count": 13,
     "metadata": {},
     "output_type": "execute_result"
    }
   ],
   "source": [
    "money_precision_at_k(recommended_good_ids, bought_good_ids, prices_recommended_good_ids, k=5)"
   ]
  },
  {
   "cell_type": "markdown",
   "metadata": {},
   "source": [
    "## Recall & Money Recall"
   ]
  },
  {
   "cell_type": "code",
   "execution_count": 17,
   "metadata": {},
   "outputs": [],
   "source": [
    "def recall(recommended, bought):\n",
    "    bought = np.array(bought)\n",
    "    recommended = np.array(recommended)\n",
    "    \n",
    "    intersection = np.isin(bought, recommended)\n",
    "    recall = intersection.sum() / len(bought)\n",
    "\n",
    "    return recall\n",
    "\n",
    "\n",
    "def recall_at_k(recommended, bought, k=5):\n",
    "    bought = np.array(bought)\n",
    "    recommended = np.array(recommended)\n",
    "    recommended = recommended[:k]\n",
    "\n",
    "    intersection = np.isin(bought, recommended)\n",
    "    recall = intersection.sum() / len(bought)\n",
    "\n",
    "    return recall\n",
    "\n",
    "\n",
    "def money_recall_at_k(recommended, bought, prices_recommended, prices_bought, k=5):\n",
    "    bought = np.array(bought)\n",
    "    prices_bought = np.array(prices_bought)\n",
    "    recommended = np.array(recommended)[:k]\n",
    "    prices_recommended = np.array(prices_recommended)[:k]\n",
    "\n",
    "    intersection = np.isin(recommended, bought)\n",
    "    recall = np.dot(intersection, prices_recommended) / prices_bought.sum()\n",
    "\n",
    "    return recall"
   ]
  },
  {
   "cell_type": "code",
   "execution_count": 20,
   "metadata": {},
   "outputs": [
    {
     "data": {
      "text/plain": [
       "0.25"
      ]
     },
     "execution_count": 20,
     "metadata": {},
     "output_type": "execute_result"
    }
   ],
   "source": [
    "recall_at_k(recommended_good_ids, bought_good_ids, 5)"
   ]
  },
  {
   "cell_type": "code",
   "execution_count": 24,
   "metadata": {},
   "outputs": [
    {
     "data": {
      "text/plain": [
       "0.17391304347826086"
      ]
     },
     "execution_count": 24,
     "metadata": {},
     "output_type": "execute_result"
    }
   ],
   "source": [
    "money_recall_at_k(recommended_good_ids, bought_good_ids, prices_recommended_good_ids, prices_bought_good_ids, 5)"
   ]
  },
  {
   "cell_type": "markdown",
   "metadata": {},
   "source": [
    "## Mean Average Precision at k (MAP@k)"
   ]
  },
  {
   "cell_type": "code",
   "execution_count": 26,
   "metadata": {},
   "outputs": [],
   "source": [
    "def ap_k(recommended, bought, k=5):\n",
    "    bought = np.array(bought)\n",
    "    recommended = np.array(recommended)\n",
    "\n",
    "    intersection = np.isin(recommended, bought)\n",
    "\n",
    "    if sum(intersection) == 0:\n",
    "        return 0\n",
    "\n",
    "    sum_ = 0\n",
    "    for i in range(0, k-1):\n",
    "        if intersection[i] == True:\n",
    "            p_k = precision_at_k(recommended, bought, k=i+1)\n",
    "            sum_ += p_k\n",
    "\n",
    "    result = sum_ / sum(intersection)\n",
    "\n",
    "    return result\n",
    "\n",
    "def map_k(recommended_all_users, bought_all_users, k=5):\n",
    "    sum_ap_k = sum([ap_k(recommended_all_users[u], bought_all_users[u], k) for u in range(len(bought_all_users))])\n",
    "    map_k = sum_ap_k / len(bought_all_users)\n",
    "\n",
    "    return map_k"
   ]
  },
  {
   "cell_type": "code",
   "execution_count": 27,
   "metadata": {},
   "outputs": [
    {
     "data": {
      "text/plain": [
       "0.125"
      ]
     },
     "execution_count": 27,
     "metadata": {},
     "output_type": "execute_result"
    }
   ],
   "source": [
    "map_k([recommended_good_ids for i in range(5)], [bought_good_ids[:i] for i in range(5)], k=5)"
   ]
  },
  {
   "cell_type": "markdown",
   "metadata": {},
   "source": [
    "## Mean Reciprocal Rank at k (MRR@k)"
   ]
  },
  {
   "cell_type": "code",
   "execution_count": 29,
   "metadata": {},
   "outputs": [],
   "source": [
    "def reciprocal_rank(recommended_all_users, bought_all_users, bought, k=5):\n",
    "    recommended_all_users = np.array(recommended_all_users)\n",
    "    bought_all_users = np.array(bought_all_users)\n",
    "\n",
    "    rr_list = []\n",
    "    for i in np.arange(len(bought)):\n",
    "        relevant_indexes = np.nonzero(np.isin(recommended_all_users[i][:k], bought_all_users[i]))[0]\n",
    "        if len(relevant_indexes) != 0:\n",
    "            rr_list.append(1/(relevant_indexes[0]+1))\n",
    "\n",
    "\n",
    "    return sum(rr_list)/len(bought)"
   ]
  },
  {
   "cell_type": "code",
   "execution_count": 31,
   "metadata": {},
   "outputs": [
    {
     "name": "stderr",
     "output_type": "stream",
     "text": [
      "<ipython-input-29-4b121ef60bbf>:3: VisibleDeprecationWarning: Creating an ndarray from ragged nested sequences (which is a list-or-tuple of lists-or-tuples-or ndarrays with different lengths or shapes) is deprecated. If you meant to do this, you must specify 'dtype=object' when creating the ndarray\n",
      "  bought_all_users = np.array(bought_all_users)\n"
     ]
    },
    {
     "data": {
      "text/plain": [
       "0.125"
      ]
     },
     "execution_count": 31,
     "metadata": {},
     "output_type": "execute_result"
    }
   ],
   "source": [
    "reciprocal_rank([recommended_good_ids for i in range(5)], [bought_good_ids[:i] for i in range(5)], bought_good_ids, k=5)"
   ]
  },
  {
   "cell_type": "markdown",
   "metadata": {},
   "source": [
    "## NDCG@k"
   ]
  },
  {
   "cell_type": "code",
   "execution_count": 32,
   "metadata": {},
   "outputs": [],
   "source": [
    "grades_list = [3, 2, 1, 1, 3, 1, 2]"
   ]
  },
  {
   "cell_type": "code",
   "execution_count": 34,
   "metadata": {},
   "outputs": [],
   "source": [
    "def dcg_at_k(grades_list, k=7):\n",
    "    grades_list = np.array(grades_list)[:k]\n",
    "\n",
    "    dcg = 0\n",
    "    for i in range(len(grades_list)):\n",
    "        if i == 0:\n",
    "            dcg = grades_list[i]\n",
    "        else:\n",
    "            dcg += (grades_list[i] / math.log2(i+1+1))\n",
    "\n",
    "    return dcg"
   ]
  },
  {
   "cell_type": "code",
   "execution_count": 36,
   "metadata": {},
   "outputs": [
    {
     "data": {
      "text/plain": [
       "(7.375968340694622, 7.830535704537055)"
      ]
     },
     "execution_count": 36,
     "metadata": {},
     "output_type": "execute_result"
    }
   ],
   "source": [
    "dcg_at_k(grades_list, k=7), dcg_at_k(sorted(grades_list, reverse=True), k=7)"
   ]
  },
  {
   "cell_type": "code",
   "execution_count": 38,
   "metadata": {},
   "outputs": [],
   "source": [
    "def ndcg_at_k(grades_list, k=7):\n",
    "    dcg = dcg_at_k(grades_list, k)\n",
    "    ideal_dcg = dcg_at_k(sorted(grades_list, reverse=True), k)\n",
    "\n",
    "    ndcg = dcg / ideal_dcg\n",
    "\n",
    "    return ndcg"
   ]
  },
  {
   "cell_type": "code",
   "execution_count": 39,
   "metadata": {},
   "outputs": [
    {
     "data": {
      "text/plain": [
       "0.9419493913323128"
      ]
     },
     "execution_count": 39,
     "metadata": {},
     "output_type": "execute_result"
    }
   ],
   "source": [
    "ndcg_at_k(grades_list, k=7)"
   ]
  },
  {
   "cell_type": "code",
   "execution_count": null,
   "metadata": {},
   "outputs": [],
   "source": []
  }
 ],
 "metadata": {
  "interpreter": {
   "hash": "31f2aee4e71d21fbe5cf8b01ff0e069b9275f58929596ceb00d14d90e3e16cd6"
  },
  "kernelspec": {
   "display_name": "Python 3.8.9 64-bit",
   "language": "python",
   "name": "python3"
  },
  "language_info": {
   "codemirror_mode": {
    "name": "ipython",
    "version": 3
   },
   "file_extension": ".py",
   "mimetype": "text/x-python",
   "name": "python",
   "nbconvert_exporter": "python",
   "pygments_lexer": "ipython3",
   "version": "3.9.1"
  },
  "orig_nbformat": 4
 },
 "nbformat": 4,
 "nbformat_minor": 2
}
